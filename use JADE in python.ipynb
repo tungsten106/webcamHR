{
 "cells": [
  {
   "cell_type": "code",
   "execution_count": 1,
   "metadata": {},
   "outputs": [
    {
     "data": {
      "text/plain": [
       "['Webcam-pulse2020-09-04 15_50_48_803605.csv',\n",
       " 'Webcam-pulse2020-09-04 15_50_53_323502.csv',\n",
       " 'Webcam-pulse2020-09-04 15_50_57_376119.csv',\n",
       " 'Webcam-pulse2020-09-04 15_51_03_243797.csv',\n",
       " 'Webcam-pulse2020-09-04 15_57_46_985869.csv',\n",
       " 'Webcam-pulse2020-09-04 15_57_54_371326.csv',\n",
       " 'Webcam-pulse2020-09-04 15_58_01_237150.csv',\n",
       " 'Webcam-pulse2020-09-04 15_58_05_995020.csv',\n",
       " 'Webcam-pulse2020-09-04 15_58_09_881570.csv',\n",
       " 'Webcam-pulse2020-09-11 16_26_28_206079.csv',\n",
       " 'Webcam-pulse2020-09-11 16_26_34_196233.csv',\n",
       " 'Webcam-pulse2020-09-11 16_26_39_363488.csv',\n",
       " 'Webcam-pulse2020-09-11 16_26_45_073820.csv',\n",
       " 'Webcam-pulse2020-09-11 16_26_50_441469.csv',\n",
       " 'Webcam-pulse2020-09-11 16_26_56_411608.csv']"
      ]
     },
     "execution_count": 1,
     "metadata": {},
     "output_type": "execute_result"
    }
   ],
   "source": [
    "import numpy as np\n",
    "import os\n",
    "import glob\n",
    "import cv2\n",
    "import matplotlib.pyplot as plt\n",
    "\n",
    "path=\"C:\\\\Users\\\\yexue\\\\PycharmProjects\\\\webcamHR\"\n",
    "extension = 'csv'\n",
    "os.chdir(path)\n",
    "result = glob.glob('*.{}'.format(extension))\n",
    "result"
   ]
  },
  {
   "cell_type": "code",
   "execution_count": 2,
   "metadata": {},
   "outputs": [
    {
     "data": {
      "text/plain": [
       "(4, 250)"
      ]
     },
     "execution_count": 2,
     "metadata": {},
     "output_type": "execute_result"
    }
   ],
   "source": [
    "data=np.loadtxt(os.path.join(path,result[-6]),delimiter=\",\").transpose()\n",
    "data.shape"
   ]
  },
  {
   "cell_type": "code",
   "execution_count": 3,
   "metadata": {},
   "outputs": [],
   "source": [
    "X=data[1:]"
   ]
  },
  {
   "cell_type": "code",
   "execution_count": 50,
   "metadata": {},
   "outputs": [
    {
     "ename": "ModuleNotFoundError",
     "evalue": "No module named 'jade.py'; 'jade' is not a package",
     "output_type": "error",
     "traceback": [
      "\u001b[1;31m---------------------------------------------------------------------------\u001b[0m",
      "\u001b[1;31mModuleNotFoundError\u001b[0m                       Traceback (most recent call last)",
      "\u001b[1;32m<ipython-input-50-7c19575eab44>\u001b[0m in \u001b[0;36m<module>\u001b[1;34m\u001b[0m\n\u001b[0;32m      3\u001b[0m \u001b[0msys\u001b[0m\u001b[1;33m.\u001b[0m\u001b[0mpath\u001b[0m\u001b[1;33m.\u001b[0m\u001b[0mappend\u001b[0m\u001b[1;33m(\u001b[0m\u001b[1;34m\"C:\\\\Users\\\\yexue\\\\webcamHR\\\\jade.py\"\u001b[0m\u001b[1;33m)\u001b[0m\u001b[1;33m\u001b[0m\u001b[1;33m\u001b[0m\u001b[0m\n\u001b[0;32m      4\u001b[0m \u001b[1;33m\u001b[0m\u001b[0m\n\u001b[1;32m----> 5\u001b[1;33m \u001b[1;32mfrom\u001b[0m \u001b[0mjade\u001b[0m\u001b[1;33m.\u001b[0m\u001b[0mpy\u001b[0m \u001b[1;32mimport\u001b[0m \u001b[0mjadeR\u001b[0m\u001b[1;33m\u001b[0m\u001b[1;33m\u001b[0m\u001b[0m\n\u001b[0m",
      "\u001b[1;31mModuleNotFoundError\u001b[0m: No module named 'jade.py'; 'jade' is not a package"
     ]
    }
   ],
   "source": [
    "import sys\n",
    "\n",
    "sys.path.append(\"C:\\\\Users\\\\yexue\\\\webcamHR\\\\jade.py\")\n",
    "\n",
    "from jade.py import jadeR"
   ]
  },
  {
   "cell_type": "code",
   "execution_count": 4,
   "metadata": {},
   "outputs": [],
   "source": [
    "#!/usr/bin/env python3\n",
    "# -*- coding: utf-8 -*-\n",
    "\"\"\"\n",
    "Created on Wed Mar 22 11:12:29 2017\n",
    "\n",
    "@author: juliette\n",
    "\"\"\"\n",
    "\n",
    "#######################################################################\n",
    "# jade.py -- Blind source separation of real signals\n",
    "#\n",
    "# Version 1.8\n",
    "#\n",
    "# Copyright 2005, Jean-Francois Cardoso (Original MATLAB code)\n",
    "# Copyright 2007, Gabriel J.L. Beckers (NumPy translation)\n",
    "#\n",
    "# This program is free software: you can redistribute it and/or modify\n",
    "# it under the terms of the GNU General Public License as published by\n",
    "# the Free Software Foundation, either version 3 of the License, or\n",
    "# (at your option) any later version.\n",
    "# \n",
    "# This program is distributed in the hope that it will be useful,\n",
    "# but WITHOUT ANY WARRANTY; without even the implied warranty of\n",
    "# MERCHANTABILITY or FITNESS FOR A PARTICULAR PURPOSE.  See the\n",
    "# GNU General Public License for more details.\n",
    "# \n",
    "# You should have received a copy of the GNU General Public License\n",
    "# along with this program.  If not, see <http://www.gnu.org/licenses/>.\n",
    "#######################################################################\n",
    "\n",
    "\"\"\"\n",
    "jade\n",
    "\n",
    "This module contains only one function, jadeR, which does blind source\n",
    "separation of real signals. Hopefully more ICA algorithms will be added in the\n",
    "future.\n",
    "\"\"\"\n",
    "\n",
    "from sys import stdout \n",
    "from numpy import abs, append, arange, arctan2, argsort, array, concatenate, \\\n",
    "    cos, diag, dot, eye, float32, float64, matrix, multiply, ndarray, newaxis, \\\n",
    "    sign, sin, sqrt, zeros\n",
    "from numpy.linalg import eig, pinv\n",
    "\n",
    "\n",
    "def jadeR(X, m=None, verbose=True):\n",
    "    \"\"\"\n",
    "    Blind separation of real signals with JADE.\n",
    "    \n",
    "    jadeR implements JADE, an Independent Component Analysis (ICA) algorithm\n",
    "    developed by Jean-Francois Cardoso. See\n",
    "    http://www.tsi.enst.fr/~cardoso/guidesepsou.html , and papers cited\n",
    "    at the end of the source file.\n",
    "        \n",
    "    Translated into NumPy from the original Matlab Version 1.8 (May 2005) by\n",
    "    Gabriel Beckers, http://gbeckers.nl .\n",
    "    \n",
    "    Parameters:\n",
    "    \n",
    "        X -- an nxT data matrix (n sensors, T samples). May be a numpy array or\n",
    "             matrix.\n",
    "    \n",
    "        m -- output matrix B has size mxn so that only m sources are\n",
    "             extracted.  This is done by restricting the operation of jadeR\n",
    "             to the m first principal components. Defaults to None, in which\n",
    "             case m=n.\n",
    "        \n",
    "        verbose -- print info on progress. Default is True.\n",
    "    \n",
    "    Returns:\n",
    "    \n",
    "        An m*n matrix B (NumPy matrix type), such that Y=B*X are separated\n",
    "        sources extracted from the n*T data matrix X. If m is omitted, B is a\n",
    "        square n*n matrix (as many sources as sensors). The rows of B are\n",
    "        ordered such that the columns of pinv(B) are in order of decreasing\n",
    "        norm; this has the effect that the `most energetically significant`\n",
    "        components appear first in the rows of Y=B*X.\n",
    "    \n",
    "    Quick notes (more at the end of this file):\n",
    "    \n",
    "    o This code is for REAL-valued signals.  A MATLAB implementation of JADE\n",
    "        for both real and complex signals is also available from\n",
    "        http://sig.enst.fr/~cardoso/stuff.html\n",
    "    \n",
    "    o This algorithm differs from the first released implementations of\n",
    "        JADE in that it has been optimized to deal more efficiently\n",
    "        1) with real signals (as opposed to complex)\n",
    "        2) with the case when the ICA model does not necessarily hold.\n",
    "    \n",
    "    o There is a practical limit to the number of independent\n",
    "        components that can be extracted with this implementation.  Note\n",
    "        that the first step of JADE amounts to a PCA with dimensionality\n",
    "        reduction from n to m (which defaults to n).  In practice m\n",
    "        cannot be `very large` (more than 40, 50, 60... depending on\n",
    "        available memory)\n",
    "    \n",
    "    o See more notes, references and revision history at the end of\n",
    "        this file and more stuff on the WEB\n",
    "        http://sig.enst.fr/~cardoso/stuff.html\n",
    "    \n",
    "    o For more info on NumPy translation, see the end of this file.\n",
    "    \n",
    "    o This code is supposed to do a good job!  Please report any\n",
    "        problem relating to the NumPY code gabriel@gbeckers.nl\n",
    "    \n",
    "    Copyright original Matlab code : Jean-Francois Cardoso <cardoso@sig.enst.fr>\n",
    "    Copyright Numpy translation : Gabriel Beckers <gabriel@gbeckers.nl>\n",
    "    \"\"\"\n",
    "    \n",
    "    # GB: we do some checking of the input arguments and copy data to new\n",
    "    # variables to avoid messing with the original input. We also require double\n",
    "    # precision (float64) and a numpy matrix type for X.\n",
    "    \n",
    "    assert isinstance(X, ndarray),\\\n",
    "        \"X (input data matrix) is of the wrong type (%s)\" % type(X)\n",
    "    origtype = X.dtype # remember to return matrix B of the same type\n",
    "    X = matrix(X.astype(float64))\n",
    "    assert X.ndim == 2, \"X has %d dimensions, should be 2\" % X.ndim\n",
    "    assert (verbose == True) or (verbose == False), \\\n",
    "        \"verbose parameter should be either True or False\"\n",
    "\n",
    "    [n,T] = X.shape # GB: n is number of input signals, T is number of samples\n",
    "    \n",
    "    if m==None:\n",
    "        m=n \t# Number of sources defaults to # of sensors\n",
    "    assert m<=n,\\\n",
    "        \"jade -> Do not ask more sources (%d) than sensors (%d )here!!!\" % (m,n)\n",
    "\n",
    "    if verbose:\n",
    "        print (\"jade -> Looking for %d sources\" % m)\n",
    "        print ( \"jade -> Removing the mean value\")\n",
    "    X -= X.mean(1)\n",
    "    \n",
    "    # whitening & projection onto signal subspace\n",
    "    # ===========================================\n",
    "    if verbose:\n",
    "        print (\"jade -> Whitening the data\")\n",
    "    [D,U] = eig((X * X.T) / float(T)) # An eigen basis for the sample covariance matrix\n",
    "    k = D.argsort()\n",
    "    Ds = D[k] # Sort by increasing variances\n",
    "    PCs = arange(n-1, n-m-1, -1)    # The m most significant princip. comp. by decreasing variance\n",
    "\n",
    "    # --- PCA  ----------------------------------------------------------\n",
    "    B = U[:,k[PCs]].T    # % At this stage, B does the PCA on m components\n",
    "    \n",
    "    # --- Scaling  ------------------------------------------------------\n",
    "    scales = sqrt(Ds[PCs]) # The scales of the principal components .\n",
    "    B = diag(1./scales) * B  # Now, B does PCA followed by a rescaling = sphering\n",
    "    #B[-1,:] = -B[-1,:] # GB: to make it compatible with octave\n",
    "    # --- Sphering ------------------------------------------------------\n",
    "    X = B * X # %% We have done the easy part: B is a whitening matrix and X is white.\n",
    "    \n",
    "    del U, D, Ds, k, PCs, scales \n",
    "    \n",
    "    # NOTE: At this stage, X is a PCA analysis in m components of the real data, except that\n",
    "    # all its entries now have unit variance.  Any further rotation of X will preserve the\n",
    "    # property that X is a vector of uncorrelated components.  It remains to find the\n",
    "    # rotation matrix such that the entries of X are not only uncorrelated but also `as\n",
    "    # independent as possible\".  This independence is measured by correlations of order\n",
    "    # higher than 2.  We have defined such a measure of independence which\n",
    "    #   1) is a reasonable approximation of the mutual information\n",
    "    #   2) can be optimized by a `fast algorithm\"\n",
    "    # This measure of independence also corresponds to the `diagonality\" of a set of\n",
    "    # cumulant matrices.  The code below finds the `missing rotation \" as the matrix which\n",
    "    # best diagonalizes a particular set of cumulant matrices.\n",
    "    \n",
    "    \n",
    "    # Estimation of the cumulant matrices.\n",
    "    # ====================================\n",
    "    if verbose:\n",
    "        print (\"jade -> Estimating cumulant matrices\")\n",
    "    \n",
    "    # Reshaping of the data, hoping to speed up things a little bit...\n",
    "    X = X.T\n",
    "    dimsymm = int((m * ( m + 1)) / 2)\t# Dim. of the space of real symm matrices\n",
    "    nbcm = dimsymm  # number of cumulant matrices\n",
    "    CM = matrix(zeros([m,m*nbcm], dtype=float64)) # Storage for cumulant matrices\n",
    "    R = matrix(eye(m, dtype=float64))\n",
    "    Qij = matrix(zeros([m,m], dtype=float64)) # Temp for a cum. matrix\n",
    "    Xim\t= zeros(m, dtype=float64) # Temp\n",
    "    Xijm = zeros(m, dtype=float64) # Temp\n",
    "    #Uns = numpy.ones([1,m], dtype=numpy.uint32)    # for convenience\n",
    "    # GB: we don't translate that one because NumPy doesn't need Tony's rule\n",
    "    \n",
    "    # I am using a symmetry trick to save storage.  I should write a short note one of these\n",
    "    # days explaining what is going on here.\n",
    "    Range = arange(m) # will index the columns of CM where to store the cum. mats.\n",
    "    \n",
    "    for im in range(m):\n",
    "        Xim = X[:,im]\n",
    "        Xijm = multiply(Xim, Xim)\n",
    "        # Note to myself: the -R on next line can be removed: it does not affect\n",
    "        # the joint diagonalization criterion\n",
    "        Qij = multiply(Xijm, X).T * X / float(T)\\\n",
    "            - R - 2 * dot(R[:,im], R[:,im].T)\n",
    "        CM[:,Range] = Qij \n",
    "        Range = Range  + m \n",
    "        for jm in range(im):\n",
    "            Xijm = multiply(Xim, X[:,jm])\n",
    "            Qij = sqrt(2) * multiply(Xijm, X).T * X / float(T) \\\n",
    "                - R[:,im] * R[:,jm].T - R[:,jm] * R[:,im].T\n",
    "            CM[:,Range]\t= Qij\n",
    "            Range = Range + m\n",
    "\n",
    "    # Now we have nbcm = m(m+1)/2 cumulants matrices stored in a big m x m*nbcm array.\n",
    "   \n",
    "    V = matrix(eye(m, dtype=float64))\n",
    "        \n",
    "    Diag = zeros(m, dtype=float64)\n",
    "    On = 0.0\n",
    "    Range = arange(m)\n",
    "    for im in range(nbcm):\n",
    "        Diag = diag(CM[:,Range])\n",
    "        On = On + (Diag*Diag).sum(axis=0)\n",
    "        Range = Range + m\n",
    "    Off = (multiply(CM,CM).sum(axis=0)).sum(axis=0) - On\n",
    "    \n",
    "    seuil = 1.0e-6 / sqrt(T) # % A statistically scaled threshold on `small\" angles\n",
    "    encore = True\n",
    "    sweep = 0 # % sweep number\n",
    "    updates = 0 # % Total number of rotations\n",
    "    upds = 0 # % Number of rotations in a given seep\n",
    "    g = zeros([2,nbcm], dtype=float64)\n",
    "    gg = zeros([2,2], dtype=float64)\n",
    "    G = zeros([2,2], dtype=float64)\n",
    "    c = 0\n",
    "    s = 0\n",
    "    ton\t= 0\n",
    "    toff = 0\n",
    "    theta = 0\n",
    "    Gain = 0\n",
    "    \n",
    "    # Joint diagonalization proper\n",
    "    \n",
    "    if verbose:\n",
    "        print ( \"jade -> Contrast optimization by joint diagonalization\")\n",
    "    \n",
    "    while encore:\n",
    "        encore = False\n",
    "        if verbose:\n",
    "            print(\"jade -> Sweep #%3d\" % sweep)\n",
    "        sweep = sweep + 1\n",
    "        upds  = 0\n",
    "        Vkeep = V\n",
    "      \n",
    "        for p in range(m-1):\n",
    "            for q in range(p+1, m):\n",
    "                \n",
    "                Ip = arange(p, m*nbcm, m)\n",
    "                Iq = arange(q, m*nbcm, m)\n",
    "                \n",
    "                # computation of Givens angle\n",
    "                g = concatenate([CM[p,Ip] - CM[q,Iq], CM[p,Iq] + CM[q,Ip]])\n",
    "                gg = dot(g, g.T)\n",
    "                ton = gg[0,0] - gg[1,1] \n",
    "                toff = gg[0,1] + gg[1,0]\n",
    "                theta = 0.5 * arctan2(toff, ton + sqrt(ton * ton + toff * toff))\n",
    "                Gain = (sqrt(ton * ton + toff * toff) - ton) / 4.0\n",
    "                \n",
    "                # Givens update\n",
    "                if abs(theta) > seuil:\n",
    "                    encore = True\n",
    "                    upds = upds + 1\n",
    "                    c = cos(theta) \n",
    "                    s = sin(theta)\n",
    "                    G = matrix([[c, -s] , [s, c] ])\n",
    "                    pair = array([p,q])\n",
    "                    V[:,pair] = V[:,pair] * G\n",
    "                    CM[pair,:] = G.T * CM[pair,:]\n",
    "                    CM[:,concatenate([Ip,Iq])] = \\\n",
    "                        append( c*CM[:,Ip]+s*CM[:,Iq], -s*CM[:,Ip]+c*CM[:,Iq], \\\n",
    "                               axis=1)\n",
    "                    On = On + Gain\n",
    "                    Off = Off - Gain\n",
    "                    \n",
    "        if verbose:\n",
    "            print ( \"completed in %d rotations\" % upds)\n",
    "        updates = updates + upds\n",
    "    if verbose:\n",
    "        print (\"jade -> Total of %d Givens rotations\" % updates)\n",
    "    \n",
    "    # A separating matrix\n",
    "    # ===================\n",
    "    \n",
    "    B = V.T * B\n",
    "    \n",
    "    # Permute the rows of the separating matrix B to get the most energetic components first.\n",
    "    # Here the **signals** are normalized to unit variance.  Therefore, the sort is\n",
    "    # according to the norm of the columns of A = pinv(B)\n",
    "\n",
    "    if verbose:\n",
    "        print(\"jade -> Sorting the components\")\n",
    "    \n",
    "    A = pinv(B)\n",
    "    keys =  array(argsort(multiply(A,A).sum(axis=0)[0]))[0]\n",
    "    B = B[keys,:]\n",
    "    B = B[::-1,:]     # % Is this smart ?\n",
    "    \n",
    "    \n",
    "    if verbose:\n",
    "        print (\"jade -> Fixing the signs\")\n",
    "    b\t= B[:,0]\n",
    "    signs = array(sign(sign(b)+0.1).T)[0] # just a trick to deal with sign=0\n",
    "    B = diag(signs) * B\n",
    "    \n",
    "    return B.astype(origtype)\n",
    "    \n",
    "    \n",
    "    # Revision history of MATLAB code:\n",
    "    #\n",
    "    #- V1.8, May 2005\n",
    "    #  - Added some commented code to explain the cumulant computation tricks.\n",
    "    #  - Added reference to the Neural Comp. paper.\n",
    "    #\n",
    "    #-  V1.7, Nov. 16, 2002\n",
    "    #   - Reverted the mean removal code to an earlier version (not using \n",
    "    #     repmat) to keep the code octave-compatible.  Now less efficient,\n",
    "    #     but does not make any significant difference wrt the total \n",
    "    #     computing cost.\n",
    "    #   - Remove some cruft (some debugging figures were created.  What \n",
    "    #     was this stuff doing there???)\n",
    "    #\n",
    "    #\n",
    "    #-  V1.6, Feb. 24, 1997 \n",
    "    #   - Mean removal is better implemented.\n",
    "    #   - Transposing X before computing the cumulants: small speed-up\n",
    "    #   - Still more comments to emphasize the relationship to PCA\n",
    "    #\n",
    "    #-  V1.5, Dec. 24 1997 \n",
    "    #   - The sign of each row of B is determined by letting the first element be positive.\n",
    "    #\n",
    "    #-  V1.4, Dec. 23 1997 \n",
    "    #   - Minor clean up.\n",
    "    #   - Added a verbose switch\n",
    "    #   - Added the sorting of the rows of B in order to fix in some reasonable way the\n",
    "    #     permutation indetermination.  See note 2) below.\n",
    "    #\n",
    "    #-  V1.3, Nov.  2 1997 \n",
    "    #   - Some clean up.  Released in the public domain.\n",
    "    #\n",
    "    #-  V1.2, Oct.  5 1997 \n",
    "    #   - Changed random picking of the cumulant matrix used for initialization to a\n",
    "    #     deterministic choice.  This is not because of a better rationale but to make the\n",
    "    #     ouput (almost surely) deterministic.\n",
    "    #   - Rewrote the joint diag. to take more advantage of Matlab\"s tricks.\n",
    "    #   - Created more dummy variables to combat Matlab\"s loose memory management.\n",
    "    #\n",
    "    #-  V1.1, Oct. 29 1997.\n",
    "    #    Made the estimation of the cumulant matrices more regular. This also corrects a\n",
    "    #    buglet...\n",
    "    #\n",
    "    #-  V1.0, Sept. 9 1997. Created.\n",
    "    #\n",
    "    # Main references:\n",
    "    # @article{CS-iee-94,\n",
    "    #  title \t= \"Blind beamforming for non {G}aussian signals\",\n",
    "    #  author       = \"Jean-Fran\\c{c}ois Cardoso and Antoine Souloumiac\",\n",
    "    #  HTML \t= \"ftp://sig.enst.fr/pub/jfc/Papers/iee.ps.gz\",\n",
    "    #  journal      = \"IEE Proceedings-F\",\n",
    "    #  month = dec, number = 6, pages = {362-370}, volume = 140, year = 1993}\n",
    "    #\n",
    "    #\n",
    "    #@article{JADE:NC,\n",
    "    #  author  = \"Jean-Fran\\c{c}ois Cardoso\",\n",
    "    #  journal = \"Neural Computation\",\n",
    "    #  title   = \"High-order contrasts for independent component analysis\",\n",
    "    #  HTML    = \"http://www.tsi.enst.fr/~cardoso/Papers.PS/neuralcomp_2ppf.ps\",\n",
    "    #  year    = 1999, month =\tjan,  volume =\t 11,  number =\t 1,  pages =\t \"157-192\"}\n",
    "    #\n",
    "    #\n",
    "    #  Notes:\n",
    "    #  ======\n",
    "    #\n",
    "    #  Note 1) The original Jade algorithm/code deals with complex signals in Gaussian noise\n",
    "    #  white and exploits an underlying assumption that the model of independent components\n",
    "    #  actually holds.  This is a reasonable assumption when dealing with some narrowband\n",
    "    #  signals.  In this context, one may i) seriously consider dealing precisely with the\n",
    "    #  noise in the whitening process and ii) expect to use the small number of significant\n",
    "    #  eigenmatrices to efficiently summarize all the 4th-order information.  All this is done\n",
    "    #  in the JADE algorithm.\n",
    "    #\n",
    "    #  In *this* implementation, we deal with real-valued signals and we do NOT expect the ICA\n",
    "    #  model to hold exactly.  Therefore, it is pointless to try to deal precisely with the\n",
    "    #  additive noise and it is very unlikely that the cumulant tensor can be accurately\n",
    "    #  summarized by its first n eigen-matrices.  Therefore, we consider the joint\n",
    "    #  diagonalization of the *whole* set of eigen-matrices.  However, in such a case, it is\n",
    "    #  not necessary to compute the eigenmatrices at all because one may equivalently use\n",
    "    #  `parallel slices\" of the cumulant tensor.  This part (computing the eigen-matrices) of\n",
    "    #  the computation can be saved: it suffices to jointly diagonalize a set of cumulant\n",
    "    #  matrices.  Also, since we are dealing with reals signals, it becomes easier to exploit\n",
    "    #  the symmetries of the cumulants to further reduce the number of matrices to be\n",
    "    #  diagonalized.  These considerations, together with other cheap tricks lead to this\n",
    "    #  version of JADE which is optimized (again) to deal with real mixtures and to work\n",
    "    #  `outside the model'.  As the original JADE algorithm, it works by minimizing a `good\n",
    "    #  set' of cumulants.\n",
    "    #\n",
    "    #  Note 2) The rows of the separating matrix B are resorted in such a way that the columns\n",
    "    #  of the corresponding mixing matrix A=pinv(B) are in decreasing order of (Euclidian)\n",
    "    #  norm.  This is a simple, `almost canonical\" way of fixing the indetermination of\n",
    "    #  permutation.  It has the effect that the first rows of the recovered signals (ie the\n",
    "    #  first rows of B*X) correspond to the most energetic *components*.  Recall however that\n",
    "    #  the source signals in S=B*X have unit variance.  Therefore, when we say that the\n",
    "    #  observations are unmixed in order of decreasing energy, this energetic signature is to\n",
    "    #  be found as the norm of the columns of A=pinv(B) and not as the variances of the\n",
    "    #  separated source signals.\n",
    "    #\n",
    "    #  Note 3) In experiments where JADE is run as B=jadeR(X,m) with m varying in range of\n",
    "    #  values, it is nice to be able to test the stability of the decomposition.  In order to\n",
    "    #  help in such a test, the rows of B can be sorted as described above. We have also\n",
    "    #  decided to fix the sign of each row in some arbitrary but fixed way.  The convention is\n",
    "    #  that the first element of each row of B is positive.\n",
    "    #\n",
    "    #  Note 4) Contrary to many other ICA algorithms, JADE (or least this version) does not\n",
    "    #  operate on the data themselves but on a statistic (the full set of 4th order cumulant).\n",
    "    #  This is represented by the matrix CM below, whose size grows as m^2 x m^2 where m is\n",
    "    #  the number of sources to be extracted (m could be much smaller than n).  As a\n",
    "    #  consequence, (this version of) JADE will probably choke on a `large' number of sources.\n",
    "    #  Here `large' depends mainly on the available memory and could be something like 40 or\n",
    "    #  so.  One of these days, I will prepare a version of JADE taking the `data' option\n",
    "    #  rather than the `statistic' option.\n",
    "    \n",
    "    # Notes on translation (GB):\n",
    "    # =========================\n",
    "    #\n",
    "    # Note 1) The function jadeR is a relatively literal translation from the original MATLAB\n",
    "    # code. I haven't really looked into optimizing it for NumPy. If you have any time to look\n",
    "    # at this and good ideas, let me know.\n",
    "    #\n",
    "    # Note 2) A test module that compares NumPy output with Octave (MATLAB\n",
    "    # clone) output of the original MATLAB script is available"
   ]
  },
  {
   "cell_type": "code",
   "execution_count": 5,
   "metadata": {},
   "outputs": [
    {
     "name": "stdout",
     "output_type": "stream",
     "text": [
      "jade -> Looking for 3 sources\n",
      "jade -> Removing the mean value\n",
      "jade -> Whitening the data\n",
      "jade -> Estimating cumulant matrices\n",
      "jade -> Contrast optimization by joint diagonalization\n",
      "jade -> Sweep #  0\n",
      "completed in 3 rotations\n",
      "jade -> Sweep #  1\n",
      "completed in 3 rotations\n",
      "jade -> Sweep #  2\n",
      "completed in 3 rotations\n",
      "jade -> Sweep #  3\n",
      "completed in 2 rotations\n",
      "jade -> Sweep #  4\n",
      "completed in 0 rotations\n",
      "jade -> Total of 11 Givens rotations\n",
      "jade -> Sorting the components\n",
      "jade -> Fixing the signs\n"
     ]
    },
    {
     "data": {
      "text/plain": [
       "matrix([[ 2.20801491, -2.03918881,  0.68341646],\n",
       "        [ 1.6305484 , -3.53859212,  1.3044166 ],\n",
       "        [ 3.821231  ,  1.97799505, -4.22350825]])"
      ]
     },
     "execution_count": 5,
     "metadata": {},
     "output_type": "execute_result"
    }
   ],
   "source": [
    "W=jadeR(X=X, m = 3)\n",
    "W"
   ]
  },
  {
   "cell_type": "code",
   "execution_count": 6,
   "metadata": {},
   "outputs": [
    {
     "data": {
      "text/plain": [
       "(3, 250)"
      ]
     },
     "execution_count": 6,
     "metadata": {},
     "output_type": "execute_result"
    }
   ],
   "source": [
    "X_ = np.matmul(np.linalg.inv(W),X)\n",
    "X_ = np.array(X_)\n",
    "X_.shape"
   ]
  },
  {
   "cell_type": "code",
   "execution_count": null,
   "metadata": {},
   "outputs": [],
   "source": []
  },
  {
   "cell_type": "code",
   "execution_count": 7,
   "metadata": {},
   "outputs": [
    {
     "data": {
      "text/plain": [
       "[<matplotlib.lines.Line2D at 0x1fa1b2bed08>]"
      ]
     },
     "execution_count": 7,
     "metadata": {},
     "output_type": "execute_result"
    },
    {
     "data": {
      "image/png": "[encoded data removed]",
      "text/plain": [
       "<Figure size 432x288 with 1 Axes>"
      ]
     },
     "metadata": {
      "needs_background": "light"
     },
     "output_type": "display_data"
    }
   ],
   "source": [
    "plt.plot(data[0],X_[0])"
   ]
  },
  {
   "cell_type": "code",
   "execution_count": 8,
   "metadata": {},
   "outputs": [],
   "source": [
    "def find_argmax(data, start = 20, do_plot = True):\n",
    "    times = data[0]\n",
    "    color = data[1]\n",
    "    L = len(data[0])\n",
    "    even_times = np.linspace(times[0], times[-1], L)\n",
    "    interpolated = np.interp(even_times, times, color)\n",
    "    interpolated = np.hamming(L) * interpolated  # a wave with width L * interpolated value\n",
    "    interpolated = interpolated - np.mean(interpolated)  # standardisation?\n",
    "    raw = np.fft.rfft(interpolated)\n",
    "    peak = np.abs(raw)\n",
    "\n",
    "    freqs = np.fft.rfftfreq(len(times))*10*60\n",
    "    # freqs = float(fps) / L * np.arange(L / 2 + 1) *60\n",
    "    # print(freqs)\n",
    "    \n",
    "    k=start\n",
    "    \n",
    "    if do_plot:   \n",
    "        fig, ax=plt.subplots()\n",
    "        ax.set_xlabel(\"Frequency\")\n",
    "        ax.set_ylabel(\"frequency domain\")\n",
    "        ax.stem(freqs[k:],np.abs(raw[k:]))\n",
    "#     print(np.argmax(peak[k:]))\n",
    "#     print(freqs[k+np.argmax(peak[k:])])\n",
    "          \n",
    "    return freqs[k+np.argmax(peak[k:])]"
   ]
  },
  {
   "cell_type": "code",
   "execution_count": 25,
   "metadata": {},
   "outputs": [
    {
     "name": "stdout",
     "output_type": "stream",
     "text": [
      "before JADE...\n",
      "48.0\n",
      "72.0\n",
      "60.0\n",
      "\n",
      "after JADE...\n"
     ]
    },
    {
     "name": "stderr",
     "output_type": "stream",
     "text": [
      "C:\\Users\\yexue\\Anaconda3\\lib\\site-packages\\ipykernel_launcher.py:22: UserWarning: In Matplotlib 3.3 individual lines on a stem plot will be added as a LineCollection instead of individual lines. This significantly improves the performance of a stem plot. To remove this warning and switch to the new behaviour, set the \"use_line_collection\" keyword argument to True.\n"
     ]
    },
    {
     "name": "stdout",
     "output_type": "stream",
     "text": [
      "72.0\n",
      "72.0\n",
      "57.599999999999994\n"
     ]
    },
    {
     "data": {
      "image/png": "[encoded data removed]",
      "text/plain": [
       "<Figure size 432x288 with 1 Axes>"
      ]
     },
     "metadata": {
      "needs_background": "light"
     },
     "output_type": "display_data"
    },
    {
     "data": {
      "image/png": "[encoded data removed]",
      "text/plain": [
       "<Figure size 432x288 with 1 Axes>"
      ]
     },
     "metadata": {
      "needs_background": "light"
     },
     "output_type": "display_data"
    },
    {
     "data": {
      "image/png": "[encoded data removed]",
      "text/plain": [
       "<Figure size 432x288 with 1 Axes>"
      ]
     },
     "metadata": {
      "needs_background": "light"
     },
     "output_type": "display_data"
    }
   ],
   "source": [
    "# times = data[0]\n",
    "# blue = X_[2]\n",
    "# L = len(data[0])\n",
    "# even_times = np.linspace(times[0], times[-1], L)\n",
    "# interpolated = np.interp(even_times, times, blue)\n",
    "# interpolated = np.hamming(L) * interpolated  # a wave with width L * interpolated value\n",
    "# interpolated = interpolated - np.mean(interpolated)  # standardisation?\n",
    "# raw = np.fft.rfft(interpolated)\n",
    "# peak = np.abs(raw)\n",
    "\n",
    "# freqs = np.fft.rfftfreq(len(times))*10*60\n",
    "# # freqs = float(fps) / L * np.arange(L / 2 + 1) *60\n",
    "# print(len(freqs))\n",
    "# fig, ax=plt.subplots()\n",
    "# ax.set_xlabel(\"Frequency\")\n",
    "# ax.set_ylabel(\"frequency domain\")\n",
    "# k=20\n",
    "# ax.stem(freqs[k:],np.abs(raw[k:]))\n",
    "# print(np.argmax(peak[k:])+k)\n",
    "# freqs[k+np.argmax(peak[k:])]\n",
    "data=np.loadtxt(os.path.join(path,result[-9]),delimiter=\",\").transpose()\n",
    "X=data[1:]\n",
    "W=jadeR(X=X, m = 3, verbose=False)\n",
    "W\n",
    "X_ = np.matmul(np.linalg.inv(W),X)\n",
    "X_ = np.array(X_)\n",
    "X_.shape\n",
    "# find_argmax([data[0],X_[2]], 20)\n",
    "\n",
    "\n",
    "print(\"before JADE...\")\n",
    "for i in range(3):\n",
    "    print(find_argmax([data[0],X[i]], 20,do_plot=False))\n",
    "    \n",
    "print(\"\\nafter JADE...\")\n",
    "for i in range(3):\n",
    "    print(find_argmax([data[0],X_[i]], 20,do_plot=True))\n",
    "# print(sum((find_argmax([data[0],X_[0]], 20),find_argmax([data[0],X_[1]], 20),\n",
    "#            find_argmax([data[0],X_[2]], 20)))/3)\n",
    "\n"
   ]
  },
  {
   "cell_type": "code",
   "execution_count": 11,
   "metadata": {},
   "outputs": [
    {
     "data": {
      "image/png": "[encoded data removed]",
      "text/plain": [
       "<Figure size 432x288 with 1 Axes>"
      ]
     },
     "metadata": {
      "needs_background": "light"
     },
     "output_type": "display_data"
    },
    {
     "name": "stdout",
     "output_type": "stream",
     "text": [
      "48.0\n"
     ]
    }
   ],
   "source": [
    "from scipy.signal import butter, lfilter\n",
    "import numpy as np\n",
    "import matplotlib.pyplot as plt\n",
    "\n",
    "def butter_bandpass(lowcut, highcut, fs, order=5):\n",
    "    nyq = 0.5 * fs\n",
    "    low = lowcut / nyq\n",
    "    high = highcut / nyq\n",
    "    b, a = butter(order, [low, high], btype='band')\n",
    "    return b, a\n",
    "\n",
    "\n",
    "def butter_bandpass_filter(data, lowcut, highcut, fs, order=5):\n",
    "    b, a = butter_bandpass(lowcut, highcut, fs, order=order)\n",
    "    y = lfilter(b, a, data)\n",
    "    return y\n",
    "\n",
    "\n",
    "\n",
    "\n",
    "def run():\n",
    "    # Sample rate and desired cutoff frequencies (in Hz).\n",
    "    fs = 50.0\n",
    "    lowcut = 0.8\n",
    "    highcut = 6\n",
    "    # Filter a noisy signal.\n",
    "    T = data[0][-1]-data[0][0]\n",
    "    t=data[0]\n",
    "    x=X_[2]\n",
    "    plt.figure(2)\n",
    "    plt.clf()\n",
    "    plt.plot(t, x, label='Noisy signal')\n",
    "\n",
    "    y = butter_bandpass_filter(x, lowcut, highcut, fs, order=6)\n",
    "    plt.plot(t, y, label='Filtered signal')\n",
    "    plt.xlabel('time (seconds)')\n",
    "    plt.axis('tight')\n",
    "#     plt.legend(loc='upper left')\n",
    "\n",
    "    plt.show()\n",
    "    print(find_argmax([data[0],y], 20,do_plot=False))\n",
    "\n",
    "\n",
    "run()"
   ]
  },
  {
   "cell_type": "code",
   "execution_count": 26,
   "metadata": {},
   "outputs": [
    {
     "name": "stdout",
     "output_type": "stream",
     "text": [
      "48.0\n",
      "48.0\n",
      "48.0\n"
     ]
    },
    {
     "data": {
      "image/png": "[encoded data removed]",
      "text/plain": [
       "<Figure size 432x288 with 1 Axes>"
      ]
     },
     "metadata": {
      "needs_background": "light"
     },
     "output_type": "display_data"
    }
   ],
   "source": [
    "for i in range(3):\n",
    "    fs = 100.0\n",
    "    lowcut = 0.8\n",
    "    highcut = 6\n",
    "#     t=data[0]\n",
    "\n",
    "    x=X[i]\n",
    "    plt.plot(t, x, label='Noisy signal')\n",
    "    \n",
    "    y = butter_bandpass_filter(x, lowcut, highcut, fs, order=4)\n",
    "    plt.plot(t, y, label='Filtered signal')\n",
    "    plt.xlabel('time (seconds)')\n",
    "    print(find_argmax([data[0],y], 20,do_plot=False))"
   ]
  },
  {
   "cell_type": "code",
   "execution_count": null,
   "metadata": {},
   "outputs": [],
   "source": []
  },
  {
   "cell_type": "code",
   "execution_count": null,
   "metadata": {},
   "outputs": [],
   "source": []
  },
  {
   "cell_type": "code",
   "execution_count": null,
   "metadata": {},
   "outputs": [],
   "source": []
  },
  {
   "cell_type": "code",
   "execution_count": null,
   "metadata": {},
   "outputs": [],
   "source": []
  },
  {
   "cell_type": "code",
   "execution_count": null,
   "metadata": {},
   "outputs": [],
   "source": []
  },
  {
   "cell_type": "code",
   "execution_count": null,
   "metadata": {},
   "outputs": [],
   "source": []
  },
  {
   "cell_type": "code",
   "execution_count": 101,
   "metadata": {
    "collapsed": true
   },
   "outputs": [
    {
     "ename": "OSError",
     "evalue": "cannot load library 'C:\\Users\\yexue\\Anaconda3\\lib\\R\\bin\\x64\\R.dll': error 0x7e",
     "output_type": "error",
     "traceback": [
      "\u001b[1;31m---------------------------------------------------------------------------\u001b[0m",
      "\u001b[1;31mOSError\u001b[0m                                   Traceback (most recent call last)",
      "\u001b[1;32m<ipython-input-101-343f7f2a1ffa>\u001b[0m in \u001b[0;36m<module>\u001b[1;34m\u001b[0m\n\u001b[0;32m      2\u001b[0m \u001b[0mos\u001b[0m\u001b[1;33m.\u001b[0m\u001b[0menviron\u001b[0m\u001b[1;33m[\u001b[0m\u001b[1;34m'R_HOME'\u001b[0m\u001b[1;33m]\u001b[0m \u001b[1;33m=\u001b[0m \u001b[1;34m\"C:\\\\Users\\\\yexue\\\\Anaconda3\\\\lib\\\\R\"\u001b[0m\u001b[1;33m\u001b[0m\u001b[1;33m\u001b[0m\u001b[0m\n\u001b[0;32m      3\u001b[0m \u001b[1;33m\u001b[0m\u001b[0m\n\u001b[1;32m----> 4\u001b[1;33m \u001b[1;32mimport\u001b[0m \u001b[0mrpy2\u001b[0m\u001b[1;33m.\u001b[0m\u001b[0mrobjects\u001b[0m \u001b[1;32mas\u001b[0m \u001b[0mrobjects\u001b[0m\u001b[1;33m\u001b[0m\u001b[1;33m\u001b[0m\u001b[0m\n\u001b[0m\u001b[0;32m      5\u001b[0m \u001b[0mr\u001b[0m \u001b[1;33m=\u001b[0m \u001b[0mrobjects\u001b[0m\u001b[1;33m.\u001b[0m\u001b[0mr\u001b[0m\u001b[1;33m\u001b[0m\u001b[1;33m\u001b[0m\u001b[0m\n\u001b[0;32m      6\u001b[0m \u001b[0mr\u001b[0m\u001b[1;33m[\u001b[0m\u001b[1;34m'source'\u001b[0m\u001b[1;33m]\u001b[0m\u001b[1;33m(\u001b[0m\u001b[1;34m'Jade_R.R'\u001b[0m\u001b[1;33m)\u001b[0m\u001b[1;33m\u001b[0m\u001b[1;33m\u001b[0m\u001b[0m\n",
      "\u001b[1;32m~\\Anaconda3\\lib\\site-packages\\rpy2\\robjects\\__init__.py\u001b[0m in \u001b[0;36m<module>\u001b[1;34m\u001b[0m\n\u001b[0;32m     14\u001b[0m \u001b[1;32mfrom\u001b[0m \u001b[0mfunctools\u001b[0m \u001b[1;32mimport\u001b[0m \u001b[0mpartial\u001b[0m\u001b[1;33m\u001b[0m\u001b[1;33m\u001b[0m\u001b[0m\n\u001b[0;32m     15\u001b[0m \u001b[1;32mimport\u001b[0m \u001b[0mtypes\u001b[0m\u001b[1;33m\u001b[0m\u001b[1;33m\u001b[0m\u001b[0m\n\u001b[1;32m---> 16\u001b[1;33m \u001b[1;32mimport\u001b[0m \u001b[0mrpy2\u001b[0m\u001b[1;33m.\u001b[0m\u001b[0mrinterface\u001b[0m \u001b[1;32mas\u001b[0m \u001b[0mrinterface\u001b[0m\u001b[1;33m\u001b[0m\u001b[1;33m\u001b[0m\u001b[0m\n\u001b[0m\u001b[0;32m     17\u001b[0m \u001b[1;32mimport\u001b[0m \u001b[0mrpy2\u001b[0m\u001b[1;33m.\u001b[0m\u001b[0mrlike\u001b[0m\u001b[1;33m.\u001b[0m\u001b[0mcontainer\u001b[0m \u001b[1;32mas\u001b[0m \u001b[0mrlc\u001b[0m\u001b[1;33m\u001b[0m\u001b[1;33m\u001b[0m\u001b[0m\n\u001b[0;32m     18\u001b[0m \u001b[1;33m\u001b[0m\u001b[0m\n",
      "\u001b[1;32m~\\Anaconda3\\lib\\site-packages\\rpy2\\rinterface.py\u001b[0m in \u001b[0;36m<module>\u001b[1;34m\u001b[0m\n\u001b[0;32m      4\u001b[0m \u001b[1;32mimport\u001b[0m \u001b[0mtyping\u001b[0m\u001b[1;33m\u001b[0m\u001b[1;33m\u001b[0m\u001b[0m\n\u001b[0;32m      5\u001b[0m \u001b[1;32mfrom\u001b[0m \u001b[0mtyping\u001b[0m \u001b[1;32mimport\u001b[0m \u001b[0mUnion\u001b[0m\u001b[1;33m\u001b[0m\u001b[1;33m\u001b[0m\u001b[0m\n\u001b[1;32m----> 6\u001b[1;33m \u001b[1;32mfrom\u001b[0m \u001b[0mrpy2\u001b[0m\u001b[1;33m.\u001b[0m\u001b[0mrinterface_lib\u001b[0m \u001b[1;32mimport\u001b[0m \u001b[0mopenrlib\u001b[0m\u001b[1;33m\u001b[0m\u001b[1;33m\u001b[0m\u001b[0m\n\u001b[0m\u001b[0;32m      7\u001b[0m \u001b[1;32mimport\u001b[0m \u001b[0mrpy2\u001b[0m\u001b[1;33m.\u001b[0m\u001b[0mrinterface_lib\u001b[0m\u001b[1;33m.\u001b[0m\u001b[0m_rinterface_capi\u001b[0m \u001b[1;32mas\u001b[0m \u001b[0m_rinterface\u001b[0m\u001b[1;33m\u001b[0m\u001b[1;33m\u001b[0m\u001b[0m\n\u001b[0;32m      8\u001b[0m \u001b[1;32mimport\u001b[0m \u001b[0mrpy2\u001b[0m\u001b[1;33m.\u001b[0m\u001b[0mrinterface_lib\u001b[0m\u001b[1;33m.\u001b[0m\u001b[0membedded\u001b[0m \u001b[1;32mas\u001b[0m \u001b[0membedded\u001b[0m\u001b[1;33m\u001b[0m\u001b[1;33m\u001b[0m\u001b[0m\n",
      "\u001b[1;32m~\\Anaconda3\\lib\\site-packages\\rpy2\\rinterface_lib\\openrlib.py\u001b[0m in \u001b[0;36m<module>\u001b[1;34m\u001b[0m\n\u001b[0;32m     42\u001b[0m     \u001b[0mrlib\u001b[0m \u001b[1;33m=\u001b[0m \u001b[0m_rinterface_cffi\u001b[0m\u001b[1;33m.\u001b[0m\u001b[0mlib\u001b[0m\u001b[1;33m\u001b[0m\u001b[1;33m\u001b[0m\u001b[0m\n\u001b[0;32m     43\u001b[0m \u001b[1;32melse\u001b[0m\u001b[1;33m:\u001b[0m\u001b[1;33m\u001b[0m\u001b[1;33m\u001b[0m\u001b[0m\n\u001b[1;32m---> 44\u001b[1;33m     \u001b[0mrlib\u001b[0m \u001b[1;33m=\u001b[0m \u001b[0m_dlopen_rlib\u001b[0m\u001b[1;33m(\u001b[0m\u001b[0mR_HOME\u001b[0m\u001b[1;33m)\u001b[0m\u001b[1;33m\u001b[0m\u001b[1;33m\u001b[0m\u001b[0m\n\u001b[0m\u001b[0;32m     45\u001b[0m \u001b[1;33m\u001b[0m\u001b[0m\n\u001b[0;32m     46\u001b[0m \u001b[1;33m\u001b[0m\u001b[0m\n",
      "\u001b[1;32m~\\Anaconda3\\lib\\site-packages\\rpy2\\rinterface_lib\\openrlib.py\u001b[0m in \u001b[0;36m_dlopen_rlib\u001b[1;34m(r_home)\u001b[0m\n\u001b[0;32m     35\u001b[0m         \u001b[1;32mraise\u001b[0m \u001b[0mValueError\u001b[0m\u001b[1;33m(\u001b[0m\u001b[1;34m'The library path cannot be None.'\u001b[0m\u001b[1;33m)\u001b[0m\u001b[1;33m\u001b[0m\u001b[1;33m\u001b[0m\u001b[0m\n\u001b[0;32m     36\u001b[0m     \u001b[1;32melse\u001b[0m\u001b[1;33m:\u001b[0m\u001b[1;33m\u001b[0m\u001b[1;33m\u001b[0m\u001b[0m\n\u001b[1;32m---> 37\u001b[1;33m         \u001b[0mrlib\u001b[0m \u001b[1;33m=\u001b[0m \u001b[0mffi\u001b[0m\u001b[1;33m.\u001b[0m\u001b[0mdlopen\u001b[0m\u001b[1;33m(\u001b[0m\u001b[0mlib_path\u001b[0m\u001b[1;33m)\u001b[0m\u001b[1;33m\u001b[0m\u001b[1;33m\u001b[0m\u001b[0m\n\u001b[0m\u001b[0;32m     38\u001b[0m     \u001b[1;32mreturn\u001b[0m \u001b[0mrlib\u001b[0m\u001b[1;33m\u001b[0m\u001b[1;33m\u001b[0m\u001b[0m\n\u001b[0;32m     39\u001b[0m \u001b[1;33m\u001b[0m\u001b[0m\n",
      "\u001b[1;31mOSError\u001b[0m: cannot load library 'C:\\Users\\yexue\\Anaconda3\\lib\\R\\bin\\x64\\R.dll': error 0x7e"
     ]
    }
   ],
   "source": [
    "import os\n",
    "# # C:\\Program Files\\R\\R-3.6.2\n",
    "# os.environ['R_HOME'] = \"C:\\\\Users\\\\yexue\\\\Anaconda3\\\\lib\\\\R\"\n",
    "# os.environ['R_USER'] = 'C:\\Program Files\\Python\\Python37\\Lib\\\\site-packages\\rpy2'\n",
    "# c:\\users\\yexue\\anaconda3\\lib\\site-packages\\rpy2\\*\n",
    "\n",
    "import rpy2.robjects as robjects\n",
    "r = robjects.r\n",
    "r['source']('Jade_R.R')"
   ]
  },
  {
   "cell_type": "code",
   "execution_count": 104,
   "metadata": {},
   "outputs": [
    {
     "name": "stdout",
     "output_type": "stream",
     "text": [
      "Processing c:\\users\\yexue\\downloads\\rpy2-2.9.5-cp37-cp37m-win_amd64.whl\n"
     ]
    },
    {
     "name": "stderr",
     "output_type": "stream",
     "text": [
      "WARNING: pip is being invoked by an old script wrapper. This will fail in a future version of pip.\n",
      "Please see https://github.com/pypa/pip/issues/5599 for advice on fixing the underlying issue.\n",
      "To avoid this problem you can invoke Python with '-m pip' instead of running pip directly.\n"
     ]
    },
    {
     "name": "stdout",
     "output_type": "stream",
     "text": [
      "Requirement already satisfied: jinja2 in c:\\users\\yexue\\anaconda3\\lib\\site-packages (from rpy2==2.9.5) (2.10.3)\n",
      "Requirement already satisfied: six in c:\\users\\yexue\\anaconda3\\lib\\site-packages (from rpy2==2.9.5) (1.13.0)\n",
      "Requirement already satisfied: MarkupSafe>=0.23 in c:\\users\\yexue\\anaconda3\\lib\\site-packages (from jinja2->rpy2==2.9.5) (1.1.1)\n",
      "Installing collected packages: rpy2\n",
      "Successfully installed rpy2-2.9.5\n"
     ]
    },
    {
     "name": "stderr",
     "output_type": "stream",
     "text": [
      "WARNING: You are using pip version 20.0.2; however, version 20.2.3 is available.\n",
      "You should consider upgrading via the 'C:\\Users\\yexue\\Anaconda3\\python.exe -m pip install --upgrade pip' command.\n"
     ]
    },
    {
     "data": {
      "text/plain": [
       "0"
      ]
     },
     "execution_count": 104,
     "metadata": {},
     "output_type": "execute_result"
    }
   ],
   "source": [
    "import pip\n",
    "pip.main([\"install\", \"C:\\\\Users\\\\yexue\\\\Downloads\\\\rpy2-2.9.5-cp37-cp37m-win_amd64.whl\"])"
   ]
  },
  {
   "cell_type": "code",
   "execution_count": 108,
   "metadata": {},
   "outputs": [
    {
     "ename": "RuntimeError",
     "evalue": "Unable to locate R.dll at C:\\Users\\yexue\\Documents\\R\\bin\\x64\\R.dll",
     "output_type": "error",
     "traceback": [
      "\u001b[1;31m---------------------------------------------------------------------------\u001b[0m",
      "\u001b[1;31mRuntimeError\u001b[0m                              Traceback (most recent call last)",
      "\u001b[1;32m<ipython-input-108-9efdfa782038>\u001b[0m in \u001b[0;36m<module>\u001b[1;34m\u001b[0m\n\u001b[0;32m      3\u001b[0m \u001b[1;31m# os.environ['R_USER'] = \"C:\\\\Users\\\\yexue\\\\Downloads\\\\rpy2-2.9.5-cp37-cp37m-win_amd64.whl\"\u001b[0m\u001b[1;33m\u001b[0m\u001b[1;33m\u001b[0m\u001b[1;33m\u001b[0m\u001b[0m\n\u001b[0;32m      4\u001b[0m \u001b[1;33m\u001b[0m\u001b[0m\n\u001b[1;32m----> 5\u001b[1;33m \u001b[1;32mimport\u001b[0m \u001b[0mrpy2\u001b[0m\u001b[1;33m.\u001b[0m\u001b[0mrobjects\u001b[0m \u001b[1;32mas\u001b[0m \u001b[0mrobjects\u001b[0m\u001b[1;33m\u001b[0m\u001b[1;33m\u001b[0m\u001b[0m\n\u001b[0m\u001b[0;32m      6\u001b[0m \u001b[0mr\u001b[0m \u001b[1;33m=\u001b[0m \u001b[0mrobjects\u001b[0m\u001b[1;33m.\u001b[0m\u001b[0mr\u001b[0m\u001b[1;33m\u001b[0m\u001b[1;33m\u001b[0m\u001b[0m\n\u001b[0;32m      7\u001b[0m \u001b[0mr\u001b[0m\u001b[1;33m[\u001b[0m\u001b[1;34m'source'\u001b[0m\u001b[1;33m]\u001b[0m\u001b[1;33m(\u001b[0m\u001b[1;34m'Jade_R.R'\u001b[0m\u001b[1;33m)\u001b[0m\u001b[1;33m\u001b[0m\u001b[1;33m\u001b[0m\u001b[0m\n",
      "\u001b[1;32m~\\Anaconda3\\lib\\site-packages\\rpy2\\robjects\\__init__.py\u001b[0m in \u001b[0;36m<module>\u001b[1;34m\u001b[0m\n\u001b[0;32m     14\u001b[0m \u001b[1;32mimport\u001b[0m \u001b[0mitertools\u001b[0m\u001b[1;33m\u001b[0m\u001b[1;33m\u001b[0m\u001b[0m\n\u001b[0;32m     15\u001b[0m \u001b[1;32mfrom\u001b[0m \u001b[0mdatetime\u001b[0m \u001b[1;32mimport\u001b[0m \u001b[0mdatetime\u001b[0m\u001b[1;33m\u001b[0m\u001b[1;33m\u001b[0m\u001b[0m\n\u001b[1;32m---> 16\u001b[1;33m \u001b[1;32mimport\u001b[0m \u001b[0mrpy2\u001b[0m\u001b[1;33m.\u001b[0m\u001b[0mrinterface\u001b[0m \u001b[1;32mas\u001b[0m \u001b[0mrinterface\u001b[0m\u001b[1;33m\u001b[0m\u001b[1;33m\u001b[0m\u001b[0m\n\u001b[0m\u001b[0;32m     17\u001b[0m \u001b[1;32mimport\u001b[0m \u001b[0mrpy2\u001b[0m\u001b[1;33m.\u001b[0m\u001b[0mrlike\u001b[0m\u001b[1;33m.\u001b[0m\u001b[0mcontainer\u001b[0m \u001b[1;32mas\u001b[0m \u001b[0mrlc\u001b[0m\u001b[1;33m\u001b[0m\u001b[1;33m\u001b[0m\u001b[0m\n\u001b[0;32m     18\u001b[0m \u001b[1;33m\u001b[0m\u001b[0m\n",
      "\u001b[1;32m~\\Anaconda3\\lib\\site-packages\\rpy2\\rinterface\\__init__.py\u001b[0m in \u001b[0;36m<module>\u001b[1;34m\u001b[0m\n\u001b[0;32m     44\u001b[0m \u001b[1;33m\u001b[0m\u001b[0m\n\u001b[0;32m     45\u001b[0m \u001b[1;32mif\u001b[0m \u001b[0msys\u001b[0m\u001b[1;33m.\u001b[0m\u001b[0mplatform\u001b[0m \u001b[1;33m==\u001b[0m \u001b[1;34m'win32'\u001b[0m\u001b[1;33m:\u001b[0m\u001b[1;33m\u001b[0m\u001b[1;33m\u001b[0m\u001b[0m\n\u001b[1;32m---> 46\u001b[1;33m     \u001b[0m_load_r_dll\u001b[0m\u001b[1;33m(\u001b[0m\u001b[0mR_HOME\u001b[0m\u001b[1;33m)\u001b[0m\u001b[1;33m\u001b[0m\u001b[1;33m\u001b[0m\u001b[0m\n\u001b[0m\u001b[0;32m     47\u001b[0m \u001b[1;33m\u001b[0m\u001b[0m\n\u001b[0;32m     48\u001b[0m \u001b[1;31m# cleanup the namespace\u001b[0m\u001b[1;33m\u001b[0m\u001b[1;33m\u001b[0m\u001b[1;33m\u001b[0m\u001b[0m\n",
      "\u001b[1;32m~\\Anaconda3\\lib\\site-packages\\rpy2\\rinterface\\__init__.py\u001b[0m in \u001b[0;36m_load_r_dll\u001b[1;34m(r_home)\u001b[0m\n\u001b[0;32m     25\u001b[0m     \u001b[0mr_dll\u001b[0m \u001b[1;33m=\u001b[0m \u001b[0mos\u001b[0m\u001b[1;33m.\u001b[0m\u001b[0mpath\u001b[0m\u001b[1;33m.\u001b[0m\u001b[0mjoin\u001b[0m\u001b[1;33m(\u001b[0m\u001b[0mr_bin\u001b[0m\u001b[1;33m,\u001b[0m \u001b[1;34m'R.dll'\u001b[0m\u001b[1;33m)\u001b[0m\u001b[1;33m\u001b[0m\u001b[1;33m\u001b[0m\u001b[0m\n\u001b[0;32m     26\u001b[0m     \u001b[1;32mif\u001b[0m \u001b[1;32mnot\u001b[0m \u001b[0mos\u001b[0m\u001b[1;33m.\u001b[0m\u001b[0mpath\u001b[0m\u001b[1;33m.\u001b[0m\u001b[0mexists\u001b[0m\u001b[1;33m(\u001b[0m\u001b[0mr_dll\u001b[0m\u001b[1;33m)\u001b[0m\u001b[1;33m:\u001b[0m\u001b[1;33m\u001b[0m\u001b[1;33m\u001b[0m\u001b[0m\n\u001b[1;32m---> 27\u001b[1;33m         \u001b[1;32mraise\u001b[0m \u001b[0mRuntimeError\u001b[0m\u001b[1;33m(\u001b[0m\u001b[1;34m\"Unable to locate R.dll at %s\"\u001b[0m \u001b[1;33m%\u001b[0m \u001b[0mr_dll\u001b[0m\u001b[1;33m)\u001b[0m\u001b[1;33m\u001b[0m\u001b[1;33m\u001b[0m\u001b[0m\n\u001b[0m\u001b[0;32m     28\u001b[0m     \u001b[1;32mif\u001b[0m \u001b[0mr_bin\u001b[0m \u001b[1;32mnot\u001b[0m \u001b[1;32min\u001b[0m \u001b[0mos\u001b[0m\u001b[1;33m.\u001b[0m\u001b[0menviron\u001b[0m\u001b[1;33m.\u001b[0m\u001b[0mget\u001b[0m\u001b[1;33m(\u001b[0m\u001b[1;34m'PATH'\u001b[0m\u001b[1;33m)\u001b[0m\u001b[1;33m:\u001b[0m\u001b[1;33m\u001b[0m\u001b[1;33m\u001b[0m\u001b[0m\n\u001b[0;32m     29\u001b[0m         \u001b[0mos\u001b[0m\u001b[1;33m.\u001b[0m\u001b[0menviron\u001b[0m\u001b[1;33m[\u001b[0m\u001b[1;34m'PATH'\u001b[0m\u001b[1;33m]\u001b[0m \u001b[1;33m=\u001b[0m \u001b[1;34m';'\u001b[0m\u001b[1;33m.\u001b[0m\u001b[0mjoin\u001b[0m\u001b[1;33m(\u001b[0m\u001b[1;33m(\u001b[0m\u001b[0mos\u001b[0m\u001b[1;33m.\u001b[0m\u001b[0menviron\u001b[0m\u001b[1;33m.\u001b[0m\u001b[0mget\u001b[0m\u001b[1;33m(\u001b[0m\u001b[1;34m'PATH'\u001b[0m\u001b[1;33m)\u001b[0m\u001b[1;33m,\u001b[0m \u001b[0mr_bin\u001b[0m\u001b[1;33m,\u001b[0m \u001b[0mr_mod\u001b[0m\u001b[1;33m)\u001b[0m\u001b[1;33m)\u001b[0m\u001b[1;33m\u001b[0m\u001b[1;33m\u001b[0m\u001b[0m\n",
      "\u001b[1;31mRuntimeError\u001b[0m: Unable to locate R.dll at C:\\Users\\yexue\\Documents\\R\\bin\\x64\\R.dll"
     ]
    }
   ],
   "source": [
    "import os\n",
    "os.environ['R_HOME'] = \"C:\\\\Users\\\\yexue\\\\Documents\\\\R\"\n",
    "# os.environ['R_USER'] = \"C:\\\\Users\\\\yexue\\\\Downloads\\\\rpy2-2.9.5-cp37-cp37m-win_amd64.whl\"\n",
    "\n",
    "import rpy2.robjects as robjects\n",
    "r = robjects.r\n",
    "r['source']('Jade_R.R')"
   ]
  }
 ],
 "metadata": {
  "kernelspec": {
   "display_name": "Python 3",
   "language": "python",
   "name": "python3"
  },
  "language_info": {
   "codemirror_mode": {
    "name": "ipython",
    "version": 3
   },
   "file_extension": ".py",
   "mimetype": "text/x-python",
   "name": "python",
   "nbconvert_exporter": "python",
   "pygments_lexer": "ipython3",
   "version": "3.7.4"
  }
 },
 "nbformat": 4,
 "nbformat_minor": 2
}
